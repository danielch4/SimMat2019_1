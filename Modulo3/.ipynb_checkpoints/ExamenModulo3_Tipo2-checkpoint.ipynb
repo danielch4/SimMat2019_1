{
 "cells": [
  {
   "cell_type": "markdown",
   "metadata": {},
   "source": [
    "# Examen Módulo 3 - Ecuaciones diferenciales. <font color=blue>Tipo de examen 2</font>.\n",
    "Lea cuidadosamente las siguientes **indicaciones** antes de comenzar el examen:\n",
    "- Para resolver el examen edite este mismo archivo y renómbrelo de la siguiente manera: *Examen1_ApellidoNombre*, donde *ApellidoNombre* corresponde a su apellido paterno con la inicial en mayúscula, seguido de su primer nombre con la inicial en mayúscula **sin acentos**. \n",
    "- Resuelva los puntos en el espacio provisto. Si requiere agregar más celdas para código o escritura, hágalo.\n",
    "- Recuerde que también se está evaluando su capacidad de interpretar los resultados. Escriba sus interpretaciones/conclusiones en celdas utilizando *Markdown*.\n",
    "- El formato de presentación de todo el examen en general debe ser adecuado. Use tamaños de letra, colores, etiquetas, etcétera.\n",
    "- No se resuelven dudas de ningún tipo por los profesores de la asignatura. Por favor, absténgase de preguntar.\n",
    "- Revise bien el tipo de examen. Sólo se le calificará si realiza el tipo de examen asignado."
   ]
  },
  {
   "cell_type": "markdown",
   "metadata": {},
   "source": [
    "___\n",
    "## Primer punto (40 puntos). Circuito RLC"
   ]
  },
  {
   "cell_type": "markdown",
   "metadata": {},
   "source": [
    "<img style=\"center\" src=\"http://www.ing.unp.edu.ar/electronica/asignaturas/ee016/apuntes/07/rlcserie.gif\" width=\"500px\" height=\"200px\" alt=\"atom\"/>\n",
    "\n",
    "\n"
   ]
  },
  {
   "cell_type": "markdown",
   "metadata": {},
   "source": [
    "Las ecuaciones que describen el comportamiento transitorio del circuito en la figura se basan en la ley de Kirchhoff, que establece que la suma algebraica de las tensiones alrededor de un lazo cerrado es cero. Por tanto el modelo para el circuito es\n",
    "\n",
    "\\begin{align}\n",
    "\\frac{dq}{dt}&=i,\\\\\n",
    "\\frac{di}{dt}&=\\frac{V}{L}-\\frac{Ri}{L}-\\frac{q}{CL}.\n",
    "\\end{align}"
   ]
  },
  {
   "cell_type": "markdown",
   "metadata": {},
   "source": [
    "Dónde \n",
    "- $R$ = resistencia ($\\Omega$), \n",
    "- $L$ = inductancia (H), \n",
    "- $C$ = capacitancia (F),\n",
    "- $q(t)$ = carga en el capacitor (C), \n",
    "- $i(t)$ = corriente en el inductor (C), \n",
    "- $V$ = voltaje de la fuente (V)\n",
    "\n",
    "Definimos $x_1=q, \\; x_2 = i$ y $x = \\left[x_1 \\quad x_2 \\right]^\\top$. Por lo tanto las ecuaciones de arriba quedan definidas como\n",
    "\n",
    "\\begin{align}\n",
    "\\frac{dx_1}{dt}&=x_2,\\\\\n",
    "\\frac{dx_2}{dt}&=\\frac{V}{L}-\\frac{Rx_2}{L}-\\frac{x_1}{CL}.\n",
    "\\end{align}"
   ]
  },
  {
   "cell_type": "markdown",
   "metadata": {},
   "source": [
    "1. (20 puntos) Simular este sistema eligiendo los parámetros $R=1$,$L=1$,$C=0.25$ y $V=5$. Condiciones iniciales $x(0)=\\left[x_1(0)\\quad x_2(0)\\right]^\\top=\\left[0\\quad 0\\right]^\\top$, usando un vector de tiempo de 0 a 15 (unidades de tiempo).\n",
    "2. (10 puntos) Graficar las soluciones en el tiempo, es decir, $q$ vs. $t$ e $i$ vs. $t$\n",
    "3. (10 puntos) Graficar el retrato de fase, es decir, $q$ vs. $i$."
   ]
  },
  {
   "cell_type": "markdown",
   "metadata": {},
   "source": [
    "**Solución**"
   ]
  },
  {
   "cell_type": "code",
   "execution_count": null,
   "metadata": {},
   "outputs": [],
   "source": []
  },
  {
   "cell_type": "code",
   "execution_count": null,
   "metadata": {},
   "outputs": [],
   "source": []
  },
  {
   "cell_type": "code",
   "execution_count": null,
   "metadata": {},
   "outputs": [],
   "source": []
  },
  {
   "cell_type": "code",
   "execution_count": null,
   "metadata": {},
   "outputs": [],
   "source": []
  },
  {
   "cell_type": "markdown",
   "metadata": {},
   "source": [
    "# Segundo punto (20 puntos). Ecuacion diferencial de primer orden"
   ]
  },
  {
   "cell_type": "markdown",
   "metadata": {},
   "source": [
    "Resuelva la siguiente ecuación diferencial para $t = 0$ a $t= 2$ donde $y (0) = 1$. Muestra todos tus resultados en el mismo gráfico.\n",
    "$$\\frac{dy}{dt}= yt^3 - 1.5y$$"
   ]
  },
  {
   "cell_type": "markdown",
   "metadata": {},
   "source": [
    " 1. (10 puntos) Calcular la solución analítica con Sympy.\n",
    " 2. (5 puntos) Calcular la solución numérica con odeint.   \n",
    " 3. (5 puntos) Comparar la solución numérica con el resultado analitico en una grafica."
   ]
  },
  {
   "cell_type": "markdown",
   "metadata": {},
   "source": [
    "**Solución**"
   ]
  },
  {
   "cell_type": "code",
   "execution_count": null,
   "metadata": {},
   "outputs": [],
   "source": []
  },
  {
   "cell_type": "code",
   "execution_count": null,
   "metadata": {},
   "outputs": [],
   "source": []
  },
  {
   "cell_type": "code",
   "execution_count": null,
   "metadata": {},
   "outputs": [],
   "source": []
  },
  {
   "cell_type": "code",
   "execution_count": null,
   "metadata": {},
   "outputs": [],
   "source": []
  },
  {
   "cell_type": "markdown",
   "metadata": {},
   "source": [
    "## Tercer punto (40 puntos). Las cosas del amor.\n",
    "Consideramos un modelo simple de la dinámica del amor/odio en una pareja, propuesto por Strogatz en 1988.\n",
    "- Strogatz, S.H. (1988) *Love affairs and differential equations*, Math. Magazine 61, 35.\n",
    "\n",
    "Romeo está enamorado de Julieta, pero en este caso, Julieta tiene sentimientos volubles. Mientras Romeo más la ama, ella quiere huir de él. Pero cuando Romeo no muestra atención, Julieta lo empieza a ver muy atractivo.\n",
    "\n",
    "Del otro lado, Romeo tiene sentimientos imitativos. Esto quiere decir que se pone cariñoso cuando ella lo ama y se vuelve frío cuando ella lo odia.\n",
    "\n",
    "Sean:\n",
    "- $x_1(t)$: amor/odio de Romeo hacia Julieta en el tiempo $t$.\n",
    "- $x_2(t)$: amor/odio de Julieta hacia Romeo en el tiempo $t$.\n",
    "\n",
    "Consideraremos que un valor positivo de $x_1$ o $x_2$ corresponde a amor, y que un valor negativo corresponde a odio.\n",
    "\n",
    "Un modelo del romance anteriormente descrito es\n",
    "\\begin{align}\n",
    "\\frac{dx_1}{dt}&=-a\\;x_1+b\\;x_2\\\\\n",
    "\\frac{dx_2}{dt}&=b\\;x_1-a\\;x_2,\n",
    "\\end{align}\n",
    "con $a$ y $b$ constantes positivas. Definimos $x=\\left[x_1\\quad x_2\\right]^T$.\n",
    "\n",
    "\n",
    "\n",
    "\n",
    "1. (15 puntos) Simular este sistema eligiendo los parámetros $a=2, \\;b=1$ y condiciones iniciales $x(0)=\\left[x_1(0)\\quad x_2(0)\\right]^T=\\left[2\\quad 1\\right]^T$, usando un vector de tiempo de 0 a 50 (unidades de tiempo).\n",
    "\n",
    "2. (15 puntos) \n",
    " - (10 puntos) Graficar las soluciones en el tiempo, es decir, $x_1$ vs $t$ y $x_2$ vs\n",
    " $t$\n",
    " - (5 puntos) ¿Qué forma tienen dichas soluciones? ¿Qué se puede decir del amor/odio de Romeo hacia Julieta? ¿Qué se puede decir del amor/odio de Julieta hacia Romeo?\n",
    "3. (10 puntos) \n",
    " - (5 puntos) Graficar el retrato de fase, es decir, $x_2$ vs. $x_1$.\n",
    " - (5 puntos) ¿Cómo es el amor de Romeo y Julieta? ¿Considera usted sano este tipo de amor?\n"
   ]
  },
  {
   "cell_type": "code",
   "execution_count": null,
   "metadata": {},
   "outputs": [],
   "source": []
  },
  {
   "cell_type": "code",
   "execution_count": null,
   "metadata": {},
   "outputs": [],
   "source": []
  },
  {
   "cell_type": "code",
   "execution_count": null,
   "metadata": {},
   "outputs": [],
   "source": []
  },
  {
   "cell_type": "code",
   "execution_count": null,
   "metadata": {},
   "outputs": [],
   "source": []
  },
  {
   "cell_type": "code",
   "execution_count": null,
   "metadata": {},
   "outputs": [],
   "source": []
  },
  {
   "cell_type": "code",
   "execution_count": null,
   "metadata": {},
   "outputs": [],
   "source": []
  }
 ],
 "metadata": {
  "kernelspec": {
   "display_name": "Python 3",
   "language": "python",
   "name": "python3"
  },
  "language_info": {
   "codemirror_mode": {
    "name": "ipython",
    "version": 3
   },
   "file_extension": ".py",
   "mimetype": "text/x-python",
   "name": "python",
   "nbconvert_exporter": "python",
   "pygments_lexer": "ipython3",
   "version": "3.7.0"
  }
 },
 "nbformat": 4,
 "nbformat_minor": 2
}
